{
  "nbformat": 4,
  "nbformat_minor": 0,
  "metadata": {
    "colab": {
      "provenance": [],
      "authorship_tag": "ABX9TyOUDo9oa0GKph87kEaG4cQ5",
      "include_colab_link": true
    },
    "kernelspec": {
      "name": "python3",
      "display_name": "Python 3"
    },
    "language_info": {
      "name": "python"
    }
  },
  "cells": [
    {
      "cell_type": "markdown",
      "metadata": {
        "id": "view-in-github",
        "colab_type": "text"
      },
      "source": [
        "<a href=\"https://colab.research.google.com/github/manthanawgan/ML-Algorithms/blob/main/Linear_Gradient_Regression.ipynb\" target=\"_parent\"><img src=\"https://colab.research.google.com/assets/colab-badge.svg\" alt=\"Open In Colab\"/></a>"
      ]
    },
    {
      "cell_type": "code",
      "execution_count": null,
      "metadata": {
        "id": "R8r0RtBtMnOt"
      },
      "outputs": [],
      "source": [
        "import numpy as np\n",
        "import matplotlib.pyplot as plt"
      ]
    },
    {
      "cell_type": "code",
      "source": [
        "#generate data\n",
        "\n",
        "np.random.seed(0)       #synthetc data for binary classification\n",
        "num_observations = 500\n",
        "\n",
        "class_0 = np.random.multivariate_normal([30, 60], [[5, 1], [1, 5]], num_observations)       #creating 2 clusters for clas 1 and class 2\n",
        "class_1 = np.random.multivariate_normal([40, 80], [[5, 1], [1, 5]], num_observations)\n",
        "\n",
        "X = np.vstack((class_0, class_1))         #label for the data\n",
        "y= np.hstack((np.zeros(num_observations), np.ones(num_observations)))\n",
        "\n"
      ],
      "metadata": {
        "id": "FCUR3PxxMydy"
      },
      "execution_count": null,
      "outputs": []
    },
    {
      "cell_type": "code",
      "source": [
        "def Sigmoid(z):\n",
        "  return 1/(1 + np.exp(-z))\n",
        "\n",
        "def compute_cost(X, y, weight):       #Log Loss\n",
        "  m = len(y)\n",
        "  z = np.dot(X, weight)\n",
        "  predictions = Sigmoid(z)\n",
        "  cost = -1/m * np.sum(y*np.log(predictions) + (1-y)*np.log(1-predictions))\n",
        "  return cost\n",
        "\n",
        "def GradientDescent(X, y, weight, learning_rate, iterations):\n",
        "  m = len(y)\n",
        "  cost_history = []\n",
        "\n",
        "  for i in range(iterations):\n",
        "    z = np.dot(X, weight)\n",
        "    predictions = Sigmoid(z)\n",
        "    gradient = np.dot(X.T, (predictions - y)/m)\n",
        "    weight -= learning_rate * gradient\n",
        "    cost = compute_cost(X, y, weight)\n",
        "    cost_history.append(cost)\n",
        "\n",
        "    if i % 100 == 0:\n",
        "      print(f\"iteration: {i},cost: {compute_cost}\")\n",
        "\n",
        "  return weight, cost_history"
      ],
      "metadata": {
        "id": "Rx1FwmogMzGB"
      },
      "execution_count": null,
      "outputs": []
    },
    {
      "cell_type": "code",
      "source": [
        "#adding intercept term\n",
        "\n",
        "intercept = np.ones((X.shape[0], 1))\n",
        "X = np.hstack((intercept, X))\n",
        "weight = np.zeros(X.shape[1])"
      ],
      "metadata": {
        "id": "EhfMUAnLM2GJ"
      },
      "execution_count": null,
      "outputs": []
    },
    {
      "cell_type": "code",
      "source": [
        "#Training the model\n",
        "\n",
        "learning_rate = 0.01\n",
        "iterations = 1000\n",
        "final_weight, cost_history = GradientDescent(X, y, weight, learning_rate, iterations)"
      ],
      "metadata": {
        "colab": {
          "base_uri": "https://localhost:8080/"
        },
        "id": "2FGfqpBSM5qJ",
        "outputId": "6126789f-898b-4a02-e931-5ba7b4509d5a"
      },
      "execution_count": null,
      "outputs": [
        {
          "output_type": "stream",
          "name": "stdout",
          "text": [
            "iteration: 0,cost: <function compute_cost at 0x7c9a1872d440>\n",
            "iteration: 100,cost: <function compute_cost at 0x7c9a1872d440>\n",
            "iteration: 200,cost: <function compute_cost at 0x7c9a1872d440>\n",
            "iteration: 300,cost: <function compute_cost at 0x7c9a1872d440>\n",
            "iteration: 400,cost: <function compute_cost at 0x7c9a1872d440>\n",
            "iteration: 500,cost: <function compute_cost at 0x7c9a1872d440>\n",
            "iteration: 600,cost: <function compute_cost at 0x7c9a1872d440>\n",
            "iteration: 700,cost: <function compute_cost at 0x7c9a1872d440>\n",
            "iteration: 800,cost: <function compute_cost at 0x7c9a1872d440>\n"
          ]
        },
        {
          "output_type": "stream",
          "name": "stderr",
          "text": [
            "<ipython-input-4-84e03da752ca>:8: RuntimeWarning: divide by zero encountered in log\n",
            "  cost = -1/m * np.sum(y*np.log(predictions) + (1-y)*np.log(1-predictions))\n",
            "<ipython-input-4-84e03da752ca>:8: RuntimeWarning: invalid value encountered in multiply\n",
            "  cost = -1/m * np.sum(y*np.log(predictions) + (1-y)*np.log(1-predictions))\n"
          ]
        },
        {
          "output_type": "stream",
          "name": "stdout",
          "text": [
            "iteration: 900,cost: <function compute_cost at 0x7c9a1872d440>\n"
          ]
        }
      ]
    },
    {
      "cell_type": "code",
      "source": [
        "#visualising the cost function\n",
        "\n",
        "plt.plot(cost_history)\n",
        "plt.xlabel('Iterations')\n",
        "plt.ylabel('costs')\n",
        "plt.title('cost functions over iterations')\n",
        "plt.show()"
      ],
      "metadata": {
        "colab": {
          "base_uri": "https://localhost:8080/",
          "height": 472
        },
        "id": "rNkg-BVjM-J5",
        "outputId": "be3ee124-9098-43b5-a6ab-fd080e6f23d1"
      },
      "execution_count": null,
      "outputs": [
        {
          "output_type": "display_data",
          "data": {
            "text/plain": [
              "<Figure size 640x480 with 1 Axes>"
            ],
            "image/png": "[encoded data removed]"
          },
          "metadata": {}
        }
      ]
    },
    {
      "cell_type": "code",
      "source": [
        "def predict(X, weight):\n",
        "  probabilities = Sigmoid(np.dot(X, weight))\n",
        "  return[1 if p >= 0.5 else 0 for p in probabilities]\n",
        "\n",
        "predictions = predict(X, final_weight)\n"
      ],
      "metadata": {
        "id": "0sfhgRQaM-wx"
      },
      "execution_count": null,
      "outputs": []
    },
    {
      "cell_type": "code",
      "source": [
        "#evaluatin the model\n",
        "\n",
        "accuracy = np.mean(predictions == y) * 100\n",
        "print(f'Accuracy: {accuracy:.2f}%')"
      ],
      "metadata": {
        "colab": {
          "base_uri": "https://localhost:8080/"
        },
        "id": "VDfqxDB6NApa",
        "outputId": "ef504947-3189-4fba-b187-8d4ecde841e9"
      },
      "execution_count": null,
      "outputs": [
        {
          "output_type": "stream",
          "name": "stdout",
          "text": [
            "Accuracy: 50.00%\n"
          ]
        }
      ]
    },
    {
      "cell_type": "code",
      "source": [],
      "metadata": {
        "id": "N11aZj7oNCcL"
      },
      "execution_count": null,
      "outputs": []
    }
  ]
}