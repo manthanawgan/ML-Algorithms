{
 "cells": [
  {
   "cell_type": "code",
   "execution_count": 6,
   "metadata": {},
   "outputs": [],
   "source": [
    "import numpy as np\n",
    "import matplotlib.pyplot as plt"
   ]
  },
  {
   "cell_type": "code",
   "execution_count": 7,
   "metadata": {},
   "outputs": [],
   "source": [
    "class LogisticRegression:\n",
    "    def __init__(self,LearningRate=0.001, Iterations=10000 ):\n",
    "        self.LearningRate = LearningRate\n",
    "        self.Iterations = Iterations\n",
    "        self.weights = None\n",
    "        self.bias = None\n",
    "\n",
    "    def SigmoidFxn(self, z):\n",
    "        return 1 / (1 + np.exp(-z))\n",
    "\n",
    "    \n",
    "    def fit(self, X, y):\n",
    "        n_samples, n_features = X.shape\n",
    "        self.weights = np.zeros(n_features)\n",
    "        self.bias = 0\n",
    "\n",
    "        for _ in range(self.Iterations):\n",
    "            Linear_Model = np.dot(X, self.weights) + self.bias\n",
    "            y_predicted = self.SigmoidFxn(Linear_Model)\n",
    "\n",
    "            dw = (1/ n_samples) * np.dot(X.T, (y_predicted - y))\n",
    "            db = (1/ n_samples) * np.sum(y_predicted - y)\n",
    "\n",
    "            self.weights -= self.LearningRate * dw\n",
    "            self.bias -= self.LearningRate * db\n",
    "\n",
    "    def predict(self, X):\n",
    "        Linear_Model = np.dot(X, self.weights) + self.bias\n",
    "        y_predicted = self.SigmoidFxn(Linear_Model)\n",
    "        return [1 if i>0.5 else 0 for i in y_predicted]\n"
   ]
  },
  {
   "cell_type": "code",
   "execution_count": 8,
   "metadata": {},
   "outputs": [
    {
     "name": "stdout",
     "output_type": "stream",
     "text": [
      "Final Accuracy: 0.8250\n"
     ]
    }
   ],
   "source": [
    "if __name__ == \"__main__\":\n",
    "    from sklearn.model_selection import train_test_split\n",
    "    from sklearn.datasets import make_classification\n",
    "\n",
    "    X, y = make_classification(n_samples=1000, n_features=10, random_state=42)\n",
    "    y = y.astype(float)  # Ensure labels are float\n",
    "    X_train, X_test, y_train, y_test = train_test_split(X, y, test_size=0.2, random_state=42)\n",
    "\n",
    "    model = LogisticRegression(LearningRate=0.001, Iterations=10000)  # Adjusted hyperparameters\n",
    "    model.fit(X_train, y_train)\n",
    "    predictions = model.predict(X_test)\n",
    "\n",
    "    accuracy = np.mean(predictions == y_test)\n",
    "    print(f\"Final Accuracy: {accuracy:.4f}\")"
   ]
  },
  {
   "cell_type": "code",
   "execution_count": 9,
   "metadata": {},
   "outputs": [
    {
     "data": {
      "text/plain": [
       "<matplotlib.collections.PathCollection at 0x1dc0c65d810>"
      ]
     },
     "execution_count": 9,
     "metadata": {},
     "output_type": "execute_result"
    },
    {
     "data": {
      "image/png": "[encoded data removed]",
      "text/plain": [
       "<Figure size 640x480 with 1 Axes>"
      ]
     },
     "metadata": {},
     "output_type": "display_data"
    }
   ],
   "source": [
    "plt.scatter(predictions, y_test)"
   ]
  },
  {
   "cell_type": "code",
   "execution_count": null,
   "metadata": {},
   "outputs": [],
   "source": []
  }
 ],
 "metadata": {
  "kernelspec": {
   "display_name": "Python 3",
   "language": "python",
   "name": "python3"
  },
  "language_info": {
   "codemirror_mode": {
    "name": "ipython",
    "version": 3
   },
   "file_extension": ".py",
   "mimetype": "text/x-python",
   "name": "python",
   "nbconvert_exporter": "python",
   "pygments_lexer": "ipython3",
   "version": "3.10.11"
  }
 },
 "nbformat": 4,
 "nbformat_minor": 2
}
